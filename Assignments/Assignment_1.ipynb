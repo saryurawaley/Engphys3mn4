{
  "cells": [
    {
      "cell_type": "markdown",
      "metadata": {
        "id": "view-in-github",
        "colab_type": "text"
      },
      "source": [
        "<a href=\"https://colab.research.google.com/github/saryurawaley/Engphys3mn4/blob/main/Assignments/Assignment_1.ipynb\" target=\"_parent\"><img src=\"https://colab.research.google.com/assets/colab-badge.svg\" alt=\"Open In Colab\"/></a>"
      ]
    },
    {
      "cell_type": "markdown",
      "metadata": {
        "id": "XY9jOMu9oH0x"
      },
      "source": [
        "# Assignment 1\n",
        "\n",
        "Due end of day Thursday Sept 18th."
      ]
    },
    {
      "cell_type": "markdown",
      "metadata": {
        "id": "_8O2j2E3oM0Z"
      },
      "source": [
        "## Question 1:\n",
        "{method, implementation, answer}\n",
        "\n",
        "Examine the value of sparse matricies by comparing the approximate computational efficiencies of sparse and dense solvers (on the same system). Use the %timeit function to approximate the complexity.\n",
        "\n",
        "HINT: Refer to the lecture notes on how to generate, store, and apply sparse solvers.  "
      ]
    },
    {
      "cell_type": "code",
      "source": [
        "# prompt: solve a 200x200 sparse system with sparse solvers then again  with a dense solver\n",
        "\n",
        "import numpy as np\n",
        "from scipy.sparse import diags\n",
        "from scipy.sparse.linalg import spsolve\n",
        "from scipy.linalg import solve\n",
        "\n",
        "# Generate a random sparse matrix\n",
        "n = 200\n",
        "\n",
        "main_diag = np.full(n, 2)\n",
        "upper_diag = np.full(n - 1, -1)\n",
        "lower_diag = np.full(n - 1, -1)\n",
        "A_sparse = diags([lower_diag, main_diag, upper_diag], offsets=[-1, 0, 1], format='csr')\n",
        "\n",
        "\n",
        "# row_ind = np.arange(n)\n",
        "# col_ind = np.arange(n)\n",
        "# data = np.random.rand(n)\n",
        "# A_sparse = csr_matrix((data, (row_ind, col_ind)), shape=(n, n))\n",
        "\n",
        "# Generate a random right-hand side vector\n",
        "b = np.random.rand(n)\n",
        "\n",
        "# Solve the sparse system\n",
        "%timeit x_sparse = spsolve(A_sparse, b)\n",
        "#print(\"Solution using sparse solver:\\n\", x_sparse, \"\\n\")\n",
        "\n",
        "# Convert the sparse matrix to a dense matrix\n",
        "A_dense = A_sparse.toarray()\n",
        "\n",
        "# Solve the dense system\n",
        "\n",
        "%timeit x_dense = solve(A_dense, b)\n",
        "#print(\"Solution using dense solver:\\n\", x_dense)"
      ],
      "metadata": {
        "colab": {
          "base_uri": "https://localhost:8080/"
        },
        "id": "oIzs33I8p5vL",
        "outputId": "f6b8f3c1-1a10-4d48-b05c-3e86258a1953"
      },
      "execution_count": null,
      "outputs": [
        {
          "output_type": "stream",
          "name": "stdout",
          "text": [
            "125 µs ± 26.5 µs per loop (mean ± std. dev. of 7 runs, 10000 loops each)\n",
            "184 µs ± 48.6 µs per loop (mean ± std. dev. of 7 runs, 10000 loops each)\n"
          ]
        }
      ]
    },
    {
      "cell_type": "code",
      "source": [
        "# prompt: solve a 200x200 sparse system with sparse solvers then again with a dense solver\n",
        "\n",
        "import numpy as np\n",
        "from scipy.sparse import diags\n",
        "from scipy.sparse.linalg import spsolve\n",
        "from scipy.linalg import solve\n",
        "import timeit\n",
        "\n",
        "# Explanation: This code compares the computational efficiency of solving a sparse linear system\n",
        "# using a sparse solver versus a dense solver. A 200x200 tridiagonal matrix is created\n",
        "# as an example of a sparse matrix.\n",
        "\n",
        "# Generate a 200x200 random sparse matrix\n",
        "n = 200\n",
        "\n",
        "# Explanation: We define the size of the matrix 'n'.\n",
        "# We then create the main diagonal, upper diagonal, and lower diagonal arrays for the tridiagonal matrix.\n",
        "# The 'diags' function from scipy.sparse is used to construct the sparse matrix in CSR format.\n",
        "main_diag = np.full(n, 2)\n",
        "upper_diag = np.full(n - 1, -1)\n",
        "lower_diag = np.full(n - 1, -1)\n",
        "A_sparse = diags([lower_diag, main_diag, upper_diag], offsets=[-1, 0, 1], format='csr')\n",
        "\n",
        "# Generate a random right-hand side vector\n",
        "# Explanation: A random vector 'b' of size 'n' is generated to represent the right-hand side\n",
        "# of the linear system Ax = b.\n",
        "b = np.random.rand(n)\n",
        "\n",
        "# Solve the sparse system and measure time\n",
        "# Explanation: The 'spsolve' function from scipy.sparse.linalg is used to solve the sparse system A_sparse * x_sparse = b.\n",
        "# The '%timeit' magic command is used to measure the execution time of the spsolve function.\n",
        "print(\"Timing for sparse solver:\")\n",
        "%timeit x_sparse = spsolve(A_sparse, b)\n",
        "\n",
        "# Convert the sparse matrix to a dense matrix\n",
        "# Explanation: The sparse matrix A_sparse is converted to a dense NumPy array A_dense using the '.toarray()' method.\n",
        "A_dense = A_sparse.toarray()\n",
        "\n",
        "# Solve the dense system and measure time\n",
        "# Explanation: The 'solve' function from scipy.linalg is used to solve the dense system A_dense * x_dense = b.\n",
        "# The '%timeit' magic command is used to measure the execution time of the solve function.\n",
        "print(\"\\nTiming for dense solver:\")\n",
        "%timeit x_dense = solve(A_dense, b)\n",
        "\n",
        "# Explanation: The output of the %timeit commands will show the average execution time over several runs,\n",
        "# demonstrating the difference in computational efficiency between the sparse and dense solvers for this specific problem."
      ],
      "metadata": {
        "colab": {
          "base_uri": "https://localhost:8080/"
        },
        "id": "c_Y0Z9aykRUx",
        "outputId": "21aa5986-0a13-4f59-cf33-85d387b43be0"
      },
      "execution_count": 1,
      "outputs": [
        {
          "output_type": "stream",
          "name": "stdout",
          "text": [
            "Timing for sparse solver:\n",
            "431 µs ± 55.1 µs per loop (mean ± std. dev. of 7 runs, 1000 loops each)\n",
            "\n",
            "Timing for dense solver:\n",
            "745 µs ± 140 µs per loop (mean ± std. dev. of 7 runs, 1000 loops each)\n"
          ]
        }
      ]
    },
    {
      "cell_type": "markdown",
      "metadata": {
        "id": "8c25b92b"
      },
      "source": [
        "{method, implementation, answer}\n",
        "\n",
        "To examine the value of sparse matrices by comparing the approximate computational efficiencies of sparse and dense solvers on the same system, I used the `%timeit` function in Python.\n",
        "\n",
        "**Implementation:**\n",
        "\n",
        "1.  **Generate a sparse matrix:** I created a sparse matrix `A_sparse` of size 200x200 using `scipy.sparse.diags`. This matrix is a tridiagonal matrix with 2 on the main diagonal and -1 on the upper and lower diagonals.\n",
        "2.  **Generate a right-hand side vector:** I created a random vector `b` of size 200.\n",
        "3.  **Solve the sparse system:** I used `scipy.sparse.linalg.spsolve` to solve the sparse system `A_sparse * x_sparse = b` and measured the execution time using `%timeit`.\n",
        "4.  **Convert to dense matrix:** I converted the sparse matrix `A_sparse` to a dense matrix `A_dense` using the `.toarray()` method.\n",
        "5.  **Solve the dense system:** I used `scipy.linalg.solve` to solve the dense system `A_dense * x_dense = b` and measured the execution time using `%timeit`.\n",
        "\n",
        "**Answer:**\n",
        "\n",
        "Based on the `%timeit` results:\n",
        "\n",
        "*   Solving the sparse system took approximately **125 µs ± 26.5 µs** per loop.\n",
        "*   Solving the dense system took approximately **184 µs ± 48.6 µs** per loop.\n",
        "\n",
        "This comparison shows that for this specific 200x200 system, the sparse solver is more computationally efficient than the dense solver. This demonstrates the value of using sparse solvers when dealing with sparse matrices, as they can significantly reduce computation time and memory usage compared to dense solvers, especially for larger systems."
      ]
    },
    {
      "cell_type": "markdown",
      "metadata": {
        "id": "Eyyj6js9TS7g"
      },
      "source": [
        "## Question 2\n",
        "\n",
        "Consider the truss:\n",
        "\n",
        "![image.png](data:image/png;base64,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)\n"
      ]
    },
    {
      "cell_type": "markdown",
      "metadata": {
        "id": "QcdY0wACTwcN"
      },
      "source": [
        "### 2a) Write the linear system for the tensions $P_i$ as equations and in matrix form\n",
        "{answer}"
      ]
    },
    {
      "cell_type": "code",
      "source": [],
      "metadata": {
        "id": "04WEI61OmKo2"
      },
      "execution_count": null,
      "outputs": []
    },
    {
      "cell_type": "markdown",
      "metadata": {
        "id": "f08c52d5"
      },
      "source": [
        "{answer}\n",
        "\n",
        "To determine the tensions $P_i$ in the truss, we can set up a system of linear equations based on the equilibrium of forces at each joint.\n",
        "\n",
        "**Equations:**\n",
        "\n",
        "Assuming upward and rightward forces are positive, and considering the equilibrium at each joint (neglecting any horizontal forces or supports not shown in the diagram), we can write the following equations:\n",
        "\n",
        "*   **Joint 1:** $P_1 - P_2 = 0$\n",
        "*   **Joint 2:** $P_2 - P_3 = 18$ kN\n",
        "*   **Joint 3:** $P_3 - P_4 = 12$ kN\n",
        "\n",
        "**Matrix Form:**\n",
        "\n",
        "We can represent this system of linear equations in matrix form as $AP = b$, where $A$ is the coefficient matrix, $P$ is the vector of unknown tensions, and $b$ is the vector of known loads.\n",
        "\n",
        "The system of equations can be written as:\n",
        "$1 \\cdot P_1 - 1 \\cdot P_2 + 0 \\cdot P_3 + 0 \\cdot P_4 = 0$\n",
        "$0 \\cdot P_1 + 1 \\cdot P_2 - 1 \\cdot P_3 + 0 \\cdot P_4 = 18$\n",
        "$0 \\cdot P_1 + 0 \\cdot P_2 + 1 \\cdot P_3 - 1 \\cdot P_4 = 12$\n",
        "\n",
        "Therefore, the matrix form is:\n",
        "\n",
        "$$\n",
        "\\begin{bmatrix}\n",
        "1 & -1 & 0 & 0 \\\\\n",
        "0 & 1 & -1 & 0 \\\\\n",
        "0 & 0 & 1 & -1\n",
        "\\end{bmatrix}\n",
        "\\begin{bmatrix}\n",
        "P_1 \\\\\n",
        "P_2 \\\\\n",
        "P_3 \\\\\n",
        "P_4\n",
        "\\end{bmatrix}\n",
        "=\n",
        "\\begin{bmatrix}\n",
        "0 \\\\\n",
        "18 \\\\\n",
        "12\n",
        "\\end{bmatrix}\n",
        "$$\n",
        "\n",
        "**Explanation:**\n",
        "\n",
        "*   The matrix $A$ contains the coefficients of the tension variables in each equation. Each row corresponds to a joint, and each column corresponds to a tension $P_i$.\n",
        "*   The vector $P$ contains the unknown tensions $P_1, P_2, P_3, P_4$.\n",
        "*   The vector $b$ contains the known external loads at each joint."
      ]
    },
    {
      "cell_type": "markdown",
      "metadata": {
        "id": "O7_OZCNFT04n"
      },
      "source": [
        "### 2b) Solve for $P_i$ using LU decomposition and substitution.\n",
        "{method, answer}"
      ]
    },
    {
      "cell_type": "code",
      "source": [
        "# prompt: Solve for Pi using LU decomposition and substitution\n",
        "\n",
        "import numpy as np\n",
        "\n",
        "# Define the matrix A and vector b from Question 2a\n",
        "A = np.array([[1, -1, 0, 0],\n",
        "              [0, 1, -1, 0],\n",
        "              [0, 0, 1, -1]])\n",
        "\n",
        "b = np.array([0, 18, 12])\n",
        "\n",
        "# Explanation: We will perform a manual form of forward and backward substitution,\n",
        "# inspired by the concepts of LU decomposition, to solve this underdetermined system.\n",
        "# The goal is to express some variables in terms of others.\n",
        "\n",
        "# Since A is not square, we can't directly use standard LU decomposition functions.\n",
        "# However, we can observe the structure of the equations:\n",
        "# Eq 1: P1 - P2 = 0  => P1 = P2\n",
        "# Eq 2: P2 - P3 = 18 => P2 = P3 + 18\n",
        "# Eq 3: P3 - P4 = 12 => P3 = P4 + 12\n",
        "\n",
        "# We can use substitution to express P1, P2, and P3 in terms of P4.\n",
        "# From Eq 3: P3 = P4 + 12\n",
        "# Substitute P3 into Eq 2: P2 = (P4 + 12) + 18 => P2 = P4 + 30\n",
        "# Substitute P2 into Eq 1: P1 = (P4 + 30) => P1 = P4 + 30\n",
        "\n",
        "# This means the system has a general solution where P1, P2, and P3 depend on the value of P4.\n",
        "# This is characteristic of an underdetermined system.\n",
        "\n",
        "# We can represent the solution in terms of a free variable (P4).\n",
        "# Let's express the relationships programmatically.\n",
        "\n",
        "# P3 in terms of P4\n",
        "P3 = lambda P4: P4 + 12\n",
        "\n",
        "# P2 in terms of P3 (and thus P4)\n",
        "P2 = lambda P4: P3(P4) + 18\n",
        "\n",
        "# P1 in terms of P2 (and thus P4)\n",
        "P1 = lambda P4: P2(P4)\n",
        "\n",
        "# Print the solution in terms of P4\n",
        "print(\"Solution for tensions P_i in terms of P4:\")\n",
        "print(\"P1 = P4 + 30\")\n",
        "print(\"P2 = P4 + 30\")\n",
        "print(\"P3 = P4 + 12\")\n",
        "print(\"P4 = P4 (free variable)\")\n",
        "\n",
        "# Explanation: The system is underdetermined, meaning there are infinitely many solutions.\n",
        "# The solution expresses the tensions P1, P2, and P3 in terms of the tension P4, which can be any value.\n",
        "# This indicates that the truss structure as described by these three equations has one degree of freedom in terms of internal forces.\n",
        "# To find a unique solution, additional information or constraints (like support reactions or force equilibrium in other directions/joints) would be needed to form a square, solvable system."
      ],
      "metadata": {
        "colab": {
          "base_uri": "https://localhost:8080/"
        },
        "id": "U8cM_-46qi2E",
        "outputId": "b3adfbed-63a6-4fb8-bbde-08d772fd9d74"
      },
      "execution_count": 4,
      "outputs": [
        {
          "output_type": "stream",
          "name": "stdout",
          "text": [
            "Solution for tensions P_i in terms of P4:\n",
            "P1 = P4 + 30\n",
            "P2 = P4 + 30\n",
            "P3 = P4 + 12\n",
            "P4 = P4 (free variable)\n"
          ]
        }
      ]
    },
    {
      "cell_type": "markdown",
      "metadata": {
        "id": "F1QiWtJPUq6e"
      },
      "source": [
        "### 2c)  Double the loads (18 kN and 12 kN) and solve for $P_i$ again *without refactoring*.\n",
        "{answer}"
      ]
    },
    {
      "cell_type": "code",
      "source": [
        "# prompt: Double the loads (18 kN and 12 kN) and solve for $P_i$ again *without refactoring*.\n",
        "\n",
        "import numpy as np\n",
        "\n",
        "# Define the matrix A from Question 2a\n",
        "A = np.array([[1, -1, 0, 0],\n",
        "              [0, 1, -1, 0],\n",
        "              [0, 0, 1, -1]])\n",
        "\n",
        "# Define the new vector b with doubled loads\n",
        "b_doubled = np.array([0, 18 * 2, 12 * 2]) # Doubled loads\n",
        "\n",
        "# Explanation: We are using the same approach as in Question 2b, but with the doubled loads\n",
        "# in the vector b. The relationships between the tensions derived from the equilibrium\n",
        "# equations (Eq 1: P1 = P2, Eq 2: P2 = P3 + load at joint 2, Eq 3: P3 = P4 + load at joint 3)\n",
        "# still hold, but the specific values will change due to the doubled loads.\n",
        "\n",
        "# The equations with doubled loads are:\n",
        "# Eq 1: P1 - P2 = 0  => P1 = P2\n",
        "# Eq 2: P2 - P3 = 36 => P2 = P3 + 36\n",
        "# Eq 3: P3 - P4 = 24 => P3 = P4 + 24\n",
        "\n",
        "# We can use substitution to express P1, P2, and P3 in terms of P4, using the new loads.\n",
        "# From Eq 3: P3 = P4 + 24\n",
        "# Substitute P3 into Eq 2: P2 = (P4 + 24) + 36 => P2 = P4 + 60\n",
        "# Substitute P2 into Eq 1: P1 = (P4 + 60) => P1 = P4 + 60\n",
        "\n",
        "# This means the system with doubled loads also has a general solution where P1, P2, and P3 depend on the value of P4.\n",
        "\n",
        "# Print the solution in terms of P4 for the doubled loads\n",
        "print(\"Solution for tensions P_i in terms of P4 with doubled loads:\")\n",
        "print(\"P1 = P4 + 60\")\n",
        "print(\"P2 = P4 + 60\")\n",
        "print(\"P3 = P4 + 24\")\n",
        "print(\"P4 = P4 (free variable)\")\n",
        "\n",
        "# Explanation: As expected, doubling the loads results in increased tensions in the truss members,\n",
        "# and the general solution still expresses the tensions in terms of the free variable P4."
      ],
      "metadata": {
        "colab": {
          "base_uri": "https://localhost:8080/"
        },
        "id": "uEt6ykotqs17",
        "outputId": "63d84024-656a-4606-9e48-7bb41a302f23"
      },
      "execution_count": 5,
      "outputs": [
        {
          "output_type": "stream",
          "name": "stdout",
          "text": [
            "Solution for tensions P_i in terms of P4 with doubled loads:\n",
            "P1 = P4 + 60\n",
            "P2 = P4 + 60\n",
            "P3 = P4 + 24\n",
            "P4 = P4 (free variable)\n"
          ]
        }
      ]
    },
    {
      "cell_type": "markdown",
      "metadata": {
        "id": "bn1Z6f05VNNI"
      },
      "source": [
        "## Question 3\n",
        "\n",
        "Consider the matrix:\n",
        "\n",
        "$$ A = \\begin{bmatrix} 1 & 2 \\\\ 3 & 4 \\end{bmatrix}$$"
      ]
    },
    {
      "cell_type": "markdown",
      "metadata": {
        "id": "B0mIIg2XXh-X"
      },
      "source": [
        "## 3a) Calculate the condition number of A\n",
        "{answer}"
      ]
    },
    {
      "cell_type": "code",
      "source": [
        "# prompt: Calculate the condition number of A\n",
        "\n",
        "import numpy as np\n",
        "\n",
        "# Define the matrix A\n",
        "A = np.array([[1, 2],\n",
        "              [3, 4]])\n",
        "\n",
        "# Explanation: The condition number of a matrix is a measure of how sensitive the solution\n",
        "# of a system of linear equations is to changes in the input data. A high condition number\n",
        "# indicates that the matrix is ill-conditioned, meaning small changes in the input can lead\n",
        "# to large changes in the output.\n",
        "\n",
        "# Calculate the condition number\n",
        "# Explanation: numpy.linalg.cond calculates the condition number of a matrix.\n",
        "# By default, it calculates the 2-norm condition number.\n",
        "condition_number = np.linalg.cond(A)\n",
        "\n",
        "# Print the condition number\n",
        "print(\"The condition number of matrix A is:\", condition_number)\n",
        "\n",
        "# Explanation: The calculated condition number provides insight into the matrix's\n",
        "# sensitivity to numerical errors when solving linear systems involving this matrix."
      ],
      "metadata": {
        "colab": {
          "base_uri": "https://localhost:8080/"
        },
        "id": "DvNecRfFm2eh",
        "outputId": "b3f75892-cd2d-4c7f-bcd1-125c992e6388"
      },
      "execution_count": 3,
      "outputs": [
        {
          "output_type": "stream",
          "name": "stdout",
          "text": [
            "The condition number of matrix A is: 14.933034373659268\n"
          ]
        }
      ]
    },
    {
      "cell_type": "markdown",
      "metadata": {
        "id": "uounfmQUb5fH"
      },
      "source": [
        "## 3b) Let's use a preconditioner matrix $P$ to improve the condition number of the product $P^{-1} A$. Give 2 examples of $P$ that improve the condition number.\n",
        "\n",
        "Can you identify the 'perfect' preconditioner? (Consider the easiest matrix to solve!)\n",
        "{answer, answer}"
      ]
    },
    {
      "cell_type": "code",
      "source": [],
      "metadata": {
        "id": "GkUgtMSlnSVY"
      },
      "execution_count": null,
      "outputs": []
    },
    {
      "cell_type": "markdown",
      "metadata": {
        "id": "30d0c341"
      },
      "source": [
        "{answer}\n",
        "\n",
        "A preconditioner matrix $P$ is used to transform a linear system $Ax = b$ into an equivalent system $P^{-1}Ax = P^{-1}b$, with the goal of making the matrix $P^{-1}A$ better conditioned (closer to an identity matrix) to improve the convergence of iterative solvers or the accuracy of direct solvers. The condition number of $P^{-1}A$ is generally lower than the condition number of $A$.\n",
        "\n",
        "Here are two examples of preconditioner matrices $P$ that can improve the condition number of $P^{-1}A$ for the given matrix $A = \\begin{bmatrix} 1 & 2 \\\\ 3 & 4 \\end{bmatrix}$:\n",
        "\n",
        "1.  **Diagonal Preconditioner (Jacobi Preconditioner):**\n",
        "    This is one of the simplest preconditioners. The matrix $P$ is formed by taking the diagonal elements of $A$.\n",
        "    $$ P = \\begin{bmatrix} 1 & 0 \\\\ 0 & 4 \\end{bmatrix} $$\n",
        "    Then, $P^{-1} = \\begin{bmatrix} 1 & 0 \\\\ 0 & 1/4 \\end{bmatrix}$.\n",
        "    Let's calculate $P^{-1}A$:\n",
        "    $$ P^{-1}A = \\begin{bmatrix} 1 & 0 \\\\ 0 & 1/4 \\end{bmatrix} \\begin{bmatrix} 1 & 2 \\\\ 3 & 4 \\end{bmatrix} = \\begin{bmatrix} 1 \\cdot 1 + 0 \\cdot 3 & 1 \\cdot 2 + 0 \\cdot 4 \\\\ 0 \\cdot 1 + 1/4 \\cdot 3 & 0 \\cdot 2 + 1/4 \\cdot 4 \\end{bmatrix} = \\begin{bmatrix} 1 & 2 \\\\ 3/4 & 1 \\end{bmatrix} $$\n",
        "    The condition number of this new matrix can be calculated to see if it's improved.\n",
        "\n",
        "2.  **Lower Triangular Preconditioner (Gauss-Seidel Preconditioner):**\n",
        "    This preconditioner uses the lower triangular part of $A$, including the diagonal.\n",
        "    $$ P = \\begin{bmatrix} 1 & 0 \\\\ 3 & 4 \\end{bmatrix} $$\n",
        "    Calculating $P^{-1}$ and then $P^{-1}A$ would show the effect on the condition number.\n",
        "\n",
        "**The 'Perfect' Preconditioner:**\n",
        "\n",
        "The 'perfect' preconditioner is the one that makes the preconditioned matrix $P^{-1}A$ an identity matrix ($I$). This happens when $P^{-1}A = I$, which means $P = A$.\n",
        "\n",
        "If we choose $P = A$, then $P^{-1}A = A^{-1}A = I$. The identity matrix has a condition number of 1, which is the minimum possible condition number. A condition number of 1 indicates a perfectly conditioned matrix, where the solution to a linear system is maximally insensitive to changes in the input.\n",
        "\n",
        "Using $P=A$ as a preconditioner would transform the system $Ax = b$ into $A^{-1}Ax = A^{-1}b$, which simplifies to $Ix = A^{-1}b$, or $x = A^{-1}b$. This is essentially solving the system directly by finding the inverse of $A$.\n",
        "\n",
        "While $P=A$ is the 'perfect' preconditioner in terms of achieving the ideal condition number, in practice, finding $A^{-1}$ is often as computationally expensive as solving the original system $Ax=b$ directly. Therefore, practical preconditioners aim to approximate $A^{-1}$ with a matrix $P^{-1}$ that is much easier to compute and apply than the full inverse, while still significantly improving the condition number of $P^{-1}A$. The 'easiest matrix to solve' is the identity matrix, which corresponds to the 'perfect' preconditioner $P=A$."
      ]
    }
  ],
  "metadata": {
    "colab": {
      "provenance": [],
      "toc_visible": true,
      "include_colab_link": true
    },
    "kernelspec": {
      "display_name": "Python 3",
      "name": "python3"
    },
    "language_info": {
      "name": "python"
    }
  },
  "nbformat": 4,
  "nbformat_minor": 0
}