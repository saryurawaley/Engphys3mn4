{
  "cells": [
    {
      "cell_type": "markdown",
      "metadata": {
        "id": "view-in-github",
        "colab_type": "text"
      },
      "source": [
        "<a href=\"https://colab.research.google.com/github/saryurawaley/Engphys3mn4/blob/main/Assignments/Assignment_3.ipynb\" target=\"_parent\"><img src=\"https://colab.research.google.com/assets/colab-badge.svg\" alt=\"Open In Colab\"/></a>"
      ]
    },
    {
      "cell_type": "markdown",
      "metadata": {
        "id": "M8KQzIU-yd6x"
      },
      "source": [
        "# Assignment 3\n",
        "\n",
        "Due EOD Monday Oct 20\n",
        "\n",
        "If you wish to do the alternative (written) oral test please advise Yiru **before the morning of Monday Oct 20th**.\n",
        "\n"
      ]
    },
    {
      "cell_type": "markdown",
      "metadata": {
        "id": "RnGhm9Yo7hXw"
      },
      "source": [
        "# Question 1"
      ]
    },
    {
      "cell_type": "markdown",
      "metadata": {
        "id": "3n6jOMitH93Y"
      },
      "source": [
        "You have two circles:\n",
        "\n",
        "$$ \\begin{align}\n",
        "[x -2]^2 + y^2 &= 4 \\\\\n",
        "x^2 + [y-3]^2 &= 4\n",
        "\\end{align} $$\n",
        "\n",
        "and you want to find where they cross."
      ]
    },
    {
      "cell_type": "markdown",
      "metadata": {
        "id": "BDuph7CvJSIv"
      },
      "source": [
        "a) Write out $\\vec{f}({\\vec{x}})$\n",
        "\n",
        "{answer}"
      ]
    },
    {
      "cell_type": "code",
      "source": [
        "import sympy as sp\n",
        "\n",
        "x, y = sp.symbols('x y')\n",
        "\n",
        "# Define the functions for the two circle equations\n",
        "f1 = (x - 2)**2 + y**2 - 4\n",
        "f2 = x**2 + (y - 3)**2 - 4\n",
        "\n",
        "# Define the function vector f(x)\n",
        "f_vec = sp.Matrix([f1, f2])\n",
        "\n",
        "print(\"f(x):\")\n",
        "display(f_vec)"
      ],
      "metadata": {
        "colab": {
          "base_uri": "https://localhost:8080/",
          "height": 79
        },
        "id": "Uz-Tx8mU_nf6",
        "outputId": "da12a138-94e4-43de-de9b-4a60deeb61d9"
      },
      "execution_count": 1,
      "outputs": [
        {
          "output_type": "stream",
          "name": "stdout",
          "text": [
            "f(x):\n"
          ]
        },
        {
          "output_type": "display_data",
          "data": {
            "text/plain": [
              "Matrix([\n",
              "[y**2 + (x - 2)**2 - 4],\n",
              "[x**2 + (y - 3)**2 - 4]])"
            ],
            "text/latex": "$\\displaystyle \\left[\\begin{matrix}y^{2} + \\left(x - 2\\right)^{2} - 4\\\\x^{2} + \\left(y - 3\\right)^{2} - 4\\end{matrix}\\right]$"
          },
          "metadata": {}
        }
      ]
    },
    {
      "cell_type": "markdown",
      "metadata": {
        "id": "vT6kSS9GJbdD"
      },
      "source": [
        "b) Write out the Jacobian $J(\\vec{x})$\n",
        "\n",
        "{answer}"
      ]
    },
    {
      "cell_type": "code",
      "source": [
        "# Calculate the Jacobian matrix\n",
        "J = f_vec.jacobian([x, y])\n",
        "\n",
        "print(\"Jacobian J(x):\")\n",
        "display(J)"
      ],
      "metadata": {
        "colab": {
          "base_uri": "https://localhost:8080/",
          "height": 75
        },
        "id": "QKDEFcDF_8oS",
        "outputId": "a4e5eb7f-fb76-40d8-bdbf-f468f61d188b"
      },
      "execution_count": 2,
      "outputs": [
        {
          "output_type": "stream",
          "name": "stdout",
          "text": [
            "Jacobian J(x):\n"
          ]
        },
        {
          "output_type": "display_data",
          "data": {
            "text/plain": [
              "Matrix([\n",
              "[2*x - 4,     2*y],\n",
              "[    2*x, 2*y - 6]])"
            ],
            "text/latex": "$\\displaystyle \\left[\\begin{matrix}2 x - 4 & 2 y\\\\2 x & 2 y - 6\\end{matrix}\\right]$"
          },
          "metadata": {}
        }
      ]
    },
    {
      "cell_type": "markdown",
      "metadata": {
        "id": "EO4drLDHJzQY"
      },
      "source": [
        "c) Write a Newton-Raphson method and use it to find where the circles cross (*Don't use a nonlinear solver package - show the algorithm down to the linear solver!*)\n",
        "\n",
        "{implementation, answer x2}"
      ]
    },
    {
      "cell_type": "code",
      "source": [
        "import numpy as np\n",
        "import sympy as sp\n",
        "\n",
        "# Define the symbols and functions again for clarity in this cell\n",
        "x, y = sp.symbols('x y')\n",
        "f1 = (x - 2)**2 + y**2 - 4\n",
        "f2 = x**2 + (y - 3)**2 - 4\n",
        "f_vec = sp.Matrix([f1, f2])\n",
        "J = f_vec.jacobian([x, y])\n",
        "\n",
        "# Convert symbolic expressions to numerical functions\n",
        "f_numerical = sp.lambdify([x, y], f_vec, 'numpy')\n",
        "J_numerical = sp.lambdify([x, y], J, 'numpy')\n",
        "\n",
        "# Newton-Raphson method\n",
        "def newton_raphson(f, J, x0, tol=1e-9, max_iter=100):\n",
        "    x = x0\n",
        "    for i in range(max_iter):\n",
        "        f_val = f(x[0], x[1]).flatten()\n",
        "        J_val = J(x[0], x[1])\n",
        "\n",
        "        # Solve the linear system J * delta_x = -f\n",
        "        delta_x = np.linalg.solve(J_val, -f_val)\n",
        "\n",
        "        x = x + delta_x\n",
        "\n",
        "        # Check for convergence\n",
        "        if np.linalg.norm(delta_x) < tol:\n",
        "            print(f\"Converged in {i+1} iterations.\")\n",
        "            return x\n",
        "\n",
        "    print(\"Did not converge within maximum iterations.\")\n",
        "    return x\n",
        "\n",
        "# Initial guess (can be changed to find the other intersection)\n",
        "initial_guess1 = np.array([1.0, 1.0])\n",
        "initial_guess2 = np.array([3.0, 2.0])\n",
        "\n",
        "\n",
        "# Find the intersection points\n",
        "intersection_point1 = newton_raphson(f_numerical, J_numerical, initial_guess1)\n",
        "print(\"\\nIntersection Point 1:\")\n",
        "print(intersection_point1)\n",
        "\n",
        "intersection_point2 = newton_raphson(f_numerical, J_numerical, initial_guess2)\n",
        "print(\"\\nIntersection Point 2:\")\n",
        "print(intersection_point2)"
      ],
      "metadata": {
        "colab": {
          "base_uri": "https://localhost:8080/"
        },
        "id": "MPIysUuRADnL",
        "outputId": "dd5b6ef0-0afa-4b21-a4ac-8397a7473028"
      },
      "execution_count": 3,
      "outputs": [
        {
          "output_type": "stream",
          "name": "stdout",
          "text": [
            "Converged in 7 iterations.\n",
            "\n",
            "Intersection Point 1:\n",
            "[0.27942331 1.01961554]\n",
            "Converged in 6 iterations.\n",
            "\n",
            "Intersection Point 2:\n",
            "[1.72057669 1.98038446]\n"
          ]
        }
      ]
    },
    {
      "cell_type": "markdown",
      "metadata": {
        "id": "RMsblB4L9BGP"
      },
      "source": [
        "# Question 2:"
      ]
    },
    {
      "cell_type": "markdown",
      "metadata": {
        "id": "_GMQAMBA9BGQ"
      },
      "source": [
        "![Screenshot 2024-10-10 172050.png](data:image/png;base64,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)"
      ]
    },
    {
      "cell_type": "markdown",
      "metadata": {
        "id": "MAVSd00h9BGR"
      },
      "source": [
        "A wire carrying an electric current is surrounded by rubber insulation of outer radius $r$. The resistance of the wire generates heat, which is conducted through the insulation and convected into the surrounding air. The temperature of the wire can be shown to be:\n",
        "\n",
        "$$ T = \\frac{q}{2 \\pi} \\bigg[ \\frac{ln(r/a)}{k} + \\frac{1}{hr} \\bigg] + T_\\infty $$\n",
        "\n",
        "where\n",
        "\n",
        "- q = rate of heat generation in wire = 50 W/m\n",
        "- a = radius of wire = 5mm\n",
        "- k = thermal conductivity of rubber = 0.16 W/m · K\n",
        "- h = convective heat-transfer coefficient = 20 W/m2 · K\n",
        "- T∞ = ambient temperature = 280 K\n",
        "\n",
        "Find $r$ that minimizes $T$\n",
        "\n",
        "{method, imlementation, answer}\n"
      ]
    },
    {
      "cell_type": "code",
      "source": [
        "import sympy as sp\n",
        "\n",
        "# Define symbolic variable and constants\n",
        "r = sp.symbols('r')\n",
        "q = 50   # W/m\n",
        "a = 5e-3 # m (converted from 5mm)\n",
        "k = 0.16 # W/m K\n",
        "h = 20   # W/m^2 K\n",
        "T_inf = 280 # K\n",
        "\n",
        "# Define the temperature function T(r)\n",
        "T = (q / (2 * sp.pi)) * ((sp.ln(r / a) / k) + (1 / (h * r))) + T_inf\n",
        "\n",
        "# Calculate the derivative of T with respect to r\n",
        "dT_dr = sp.diff(T, r)\n",
        "\n",
        "print(\"Derivative of T with respect to r:\")\n",
        "display(dT_dr)\n",
        "\n",
        "# To find the minimum, set the derivative to zero and solve for r\n",
        "# We are looking for r > a\n",
        "solutions = sp.solve(dT_dr, r)\n",
        "\n",
        "print(\"\\nSolutions for r where dT/dr = 0:\")\n",
        "display(solutions)\n",
        "\n",
        "# Filter for physically meaningful solutions (r > a)\n",
        "# In this case, the solve function might return complex solutions or other non-physical ones.\n",
        "# We expect a single positive real solution greater than 'a'.\n",
        "\n",
        "# Let's evaluate the real solutions and check if they are positive and greater than 'a'\n",
        "meaningful_r = [sol.evalf() for sol in solutions if sol.is_real and sol > a]\n",
        "\n",
        "print(f\"\\nMeaningful solution(s) for r (r > {a}):\")\n",
        "display(meaningful_r)\n",
        "\n",
        "# Assuming there's a single meaningful solution, take that as the minimizing r\n",
        "if meaningful_r:\n",
        "    r_minimize_T = meaningful_r[0]\n",
        "    print(f\"\\nThe value of r that minimizes T is approximately: {r_minimize_T:.6f} m\")\n",
        "    # Calculate the minimum temperature at this r\n",
        "    min_T = T.subs(r, r_minimize_T)\n",
        "    print(f\"The minimum temperature at this r is approximately: {min_T:.6f} K\")\n",
        "else:\n",
        "    print(\"\\nCould not find a meaningful value of r that minimizes T.\")"
      ],
      "metadata": {
        "colab": {
          "base_uri": "https://localhost:8080/",
          "height": 229
        },
        "id": "yETt8CtFAQ6L",
        "outputId": "a40d849e-fc67-44b1-c580-946936d43740"
      },
      "execution_count": 4,
      "outputs": [
        {
          "output_type": "stream",
          "name": "stdout",
          "text": [
            "Derivative of T with respect to r:\n"
          ]
        },
        {
          "output_type": "display_data",
          "data": {
            "text/plain": [
              "25*(6.25/r - 1/(20*r**2))/pi"
            ],
            "text/latex": "$\\displaystyle \\frac{25 \\left(\\frac{6.25}{r} - \\frac{1}{20 r^{2}}\\right)}{\\pi}$"
          },
          "metadata": {}
        },
        {
          "output_type": "stream",
          "name": "stdout",
          "text": [
            "\n",
            "Solutions for r where dT/dr = 0:\n"
          ]
        },
        {
          "output_type": "display_data",
          "data": {
            "text/plain": [
              "[0.00800000000000000]"
            ]
          },
          "metadata": {}
        },
        {
          "output_type": "stream",
          "name": "stdout",
          "text": [
            "\n",
            "Meaningful solution(s) for r (r > 0.005):\n"
          ]
        },
        {
          "output_type": "display_data",
          "data": {
            "text/plain": [
              "[0.00800000000000000]"
            ]
          },
          "metadata": {}
        },
        {
          "output_type": "stream",
          "name": "stdout",
          "text": [
            "\n",
            "The value of r that minimizes T is approximately: 0.008000 m\n",
            "The minimum temperature at this r is approximately: 353.111982 K\n"
          ]
        }
      ]
    },
    {
      "cell_type": "markdown",
      "metadata": {
        "id": "YvRKbQgC9BGS"
      },
      "source": [
        "# Question 3:\n",
        "\n",
        "{Method, answer}"
      ]
    },
    {
      "cell_type": "markdown",
      "metadata": {
        "id": "cHERJ6pl9BGS"
      },
      "source": [
        "Given the data in (T, k) columns,"
      ]
    },
    {
      "cell_type": "code",
      "execution_count": null,
      "metadata": {
        "id": "oNivDo0s9BGT"
      },
      "outputs": [],
      "source": [
        "import numpy as np\n",
        "data = np.array([[2.73000000e+02, 4.45900132e+03],\n",
        "       [2.76030303e+02, 4.41776331e+03],\n",
        "       [2.79060606e+02, 7.02912764e+03],\n",
        "       [2.82090909e+02, 8.07233255e+03],\n",
        "       [2.85121212e+02, 1.35655353e+04],\n",
        "       [2.88151515e+02, 1.53935301e+04],\n",
        "       [2.91181818e+02, 1.66518521e+04],\n",
        "       [2.94212121e+02, 2.57056205e+04],\n",
        "       [2.97242424e+02, 2.80402378e+04],\n",
        "       [3.00272727e+02, 3.52850720e+04],\n",
        "       [3.03303030e+02, 2.53348206e+04],\n",
        "       [3.06333333e+02, 6.20422294e+04],\n",
        "       [3.09363636e+02, 5.65720969e+04],\n",
        "       [3.12393939e+02, 8.94469023e+04],\n",
        "       [3.15424242e+02, 9.65941942e+04],\n",
        "       [3.18454545e+02, 1.14139663e+05],\n",
        "       [3.21484848e+02, 1.00384893e+05],\n",
        "       [3.24515152e+02, 1.60315046e+05],\n",
        "       [3.27545455e+02, 1.75487522e+05],\n",
        "       [3.30575758e+02, 2.79200552e+05],\n",
        "       [3.33606061e+02, 2.83492579e+05],\n",
        "       [3.36636364e+02, 2.19343286e+05],\n",
        "       [3.39666667e+02, 3.46339717e+05],\n",
        "       [3.42696970e+02, 3.29907107e+05],\n",
        "       [3.45727273e+02, 2.99334626e+05],\n",
        "       [3.48757576e+02, 4.85091915e+05],\n",
        "       [3.51787879e+02, 7.28675595e+05],\n",
        "       [3.54818182e+02, 9.91612106e+05],\n",
        "       [3.57848485e+02, 9.39914377e+05],\n",
        "       [3.60878788e+02, 1.46925677e+06],\n",
        "       [3.63909091e+02, 1.46126057e+06],\n",
        "       [3.66939394e+02, 1.35738053e+06],\n",
        "       [3.69969697e+02, 1.14736966e+06],\n",
        "       [3.73000000e+02, 2.10254656e+06],\n",
        "       [3.76030303e+02, 1.12017395e+06],\n",
        "       [3.79060606e+02, 2.34226319e+06],\n",
        "       [3.82090909e+02, 2.22858410e+06],\n",
        "       [3.85121212e+02, 3.26613076e+06],\n",
        "       [3.88151515e+02, 3.68055559e+06],\n",
        "       [3.91181818e+02, 2.37869512e+06],\n",
        "       [3.94212121e+02, 4.10021974e+06],\n",
        "       [3.97242424e+02, 3.84314791e+06],\n",
        "       [4.00272727e+02, 6.46893402e+06],\n",
        "       [4.03303030e+02, 5.35422811e+06],\n",
        "       [4.06333333e+02, 7.73962115e+06],\n",
        "       [4.09363636e+02, 8.41409713e+06],\n",
        "       [4.12393939e+02, 7.81006766e+06],\n",
        "       [4.15424242e+02, 8.35579617e+06],\n",
        "       [4.18454545e+02, 1.03669786e+07],\n",
        "       [4.21484848e+02, 1.02992887e+07],\n",
        "       [4.24515152e+02, 6.39189417e+06],\n",
        "       [4.27545455e+02, 1.36405449e+07],\n",
        "       [4.30575758e+02, 1.49410729e+07],\n",
        "       [4.33606061e+02, 2.09149077e+07],\n",
        "       [4.36636364e+02, 2.14703032e+07],\n",
        "       [4.39666667e+02, 2.11464887e+07],\n",
        "       [4.42696970e+02, 2.60359855e+07],\n",
        "       [4.45727273e+02, 3.19593647e+07],\n",
        "       [4.48757576e+02, 2.84547486e+07],\n",
        "       [4.51787879e+02, 2.98421720e+07],\n",
        "       [4.54818182e+02, 3.54693846e+07],\n",
        "       [4.57848485e+02, 4.17941703e+07],\n",
        "       [4.60878788e+02, 4.65948030e+07],\n",
        "       [4.63909091e+02, 5.74740135e+07],\n",
        "       [4.66939394e+02, 4.12282427e+07],\n",
        "       [4.69969697e+02, 6.43295352e+07],\n",
        "       [4.73000000e+02, 6.78921367e+07],\n",
        "       [4.76030303e+02, 6.87155479e+07],\n",
        "       [4.79060606e+02, 6.70678776e+07],\n",
        "       [4.82090909e+02, 6.23342574e+07],\n",
        "       [4.85121212e+02, 9.48617775e+07],\n",
        "       [4.88151515e+02, 9.34710486e+07],\n",
        "       [4.91181818e+02, 8.25781385e+07],\n",
        "       [4.94212121e+02, 1.02888832e+08],\n",
        "       [4.97242424e+02, 9.99071191e+07],\n",
        "       [5.00272727e+02, 1.01319698e+08],\n",
        "       [5.03303030e+02, 1.32602108e+08],\n",
        "       [5.06333333e+02, 1.31923942e+08],\n",
        "       [5.09363636e+02, 1.00146518e+08],\n",
        "       [5.12393939e+02, 1.48398130e+08],\n",
        "       [5.15424242e+02, 2.01128065e+08],\n",
        "       [5.18454545e+02, 2.25792703e+08],\n",
        "       [5.21484848e+02, 1.99863590e+08],\n",
        "       [5.24515152e+02, 2.47074414e+08],\n",
        "       [5.27545455e+02, 2.08548654e+08],\n",
        "       [5.30575758e+02, 1.83449792e+08],\n",
        "       [5.33606061e+02, 2.58856094e+08],\n",
        "       [5.36636364e+02, 3.10038100e+08],\n",
        "       [5.39666667e+02, 3.58956357e+08],\n",
        "       [5.42696970e+02, 3.21512830e+08],\n",
        "       [5.45727273e+02, 4.30773903e+08],\n",
        "       [5.48757576e+02, 4.39179856e+08],\n",
        "       [5.51787879e+02, 4.57110476e+08],\n",
        "       [5.54818182e+02, 3.75292342e+08],\n",
        "       [5.57848485e+02, 3.97574548e+08],\n",
        "       [5.60878788e+02, 4.57516936e+08],\n",
        "       [5.63909091e+02, 2.63845055e+08],\n",
        "       [5.66939394e+02, 4.59249219e+08],\n",
        "       [5.69969697e+02, 5.23677345e+08],\n",
        "       [5.73000000e+02, 7.51098462e+08]])"
      ]
    },
    {
      "cell_type": "markdown",
      "metadata": {
        "id": "PjsnU_Kk9BGV"
      },
      "source": [
        "fit a modified Arrhenius curve of the form:\n",
        "\n",
        "$$k = [A +B T]e^{\\frac{-E}{RT}} $$\n",
        "\n",
        "where $R$ is the Ideal gas constant.\n",
        "\n",
        "\n"
      ]
    },
    {
      "cell_type": "code",
      "source": [
        "from scipy.optimize import curve_fit\n",
        "import numpy as np\n",
        "\n",
        "# The provided data\n",
        "data = np.array([[2.73000000e+02, 4.45900132e+03],\n",
        "       [2.76030303e+02, 4.41776331e+03],\n",
        "       [2.79060606e+02, 7.02912764e+03],\n",
        "       [2.82090909e+02, 8.07233255e+03],\n",
        "       [2.85121212e+02, 1.35655353e+04],\n",
        "       [2.88151515e+02, 1.53935301e+04],\n",
        "       [2.91181818e+02, 1.66518521e+04],\n",
        "       [2.94212121e+02, 2.57056205e+04],\n",
        "       [2.97242424e+02, 2.80402378e+04],\n",
        "       [3.00272727e+02, 3.52850720e+04],\n",
        "       [3.03303030e+02, 2.53348206e+04],\n",
        "       [3.06333333e+02, 6.20422294e+04],\n",
        "       [3.09363636e+02, 5.65720969e+04],\n",
        "       [3.12393939e+02, 8.94469023e+04],\n",
        "       [3.15424242e+02, 9.65941942e+04],\n",
        "       [3.18454545e+02, 1.14139663e+05],\n",
        "       [3.21484848e+02, 1.00384893e+05],\n",
        "       [3.24515152e+02, 1.60315046e+05],\n",
        "       [3.27545455e+02, 1.75487522e+05],\n",
        "       [3.30575758e+02, 2.79200552e+05],\n",
        "       [3.33606061e+02, 2.83492579e+05],\n",
        "       [3.36636364e+02, 2.19343286e+05],\n",
        "       [3.39666667e+02, 3.46339717e+05],\n",
        "       [3.42696970e+02, 3.29907107e+05],\n",
        "       [3.45727273e+02, 2.99334626e+05],\n",
        "       [3.48757576e+02, 4.85091915e+05],\n",
        "       [3.51787879e+02, 7.28675595e+05],\n",
        "       [3.54818182e+02, 9.91612106e+05],\n",
        "       [3.57848485e+02, 9.39914377e+05],\n",
        "       [3.60878788e+02, 1.46925677e+06],\n",
        "       [3.63909091e+02, 1.46126057e+06],\n",
        "       [3.66939394e+02, 1.35738053e+06],\n",
        "       [3.69969697e+02, 1.14736966e+06],\n",
        "       [3.73000000e+02, 2.10254656e+06],\n",
        "       [3.76030303e+02, 1.12017395e+06],\n",
        "       [3.79060606e+02, 2.34226319e+06],\n",
        "       [3.82090909e+02, 2.22858410e+06],\n",
        "       [3.85121212e+02, 3.26613076e+06],\n",
        "       [3.88151515e+02, 3.68055559e+06],\n",
        "       [3.91181818e+02, 2.37869512e+06],\n",
        "       [3.94212121e+02, 4.10021974e+06],\n",
        "       [3.97242424e+02, 3.84314791e+06],\n",
        "       [4.00272727e+02, 6.46893402e+06],\n",
        "       [4.03303030e+02, 5.35422811e+06],\n",
        "       [4.06333333e+02, 7.73962115e+06],\n",
        "       [4.09363636e+02, 8.41409713e+06],\n",
        "       [4.12393939e+02, 7.81006766e+06],\n",
        "       [4.15424242e+02, 8.35579617e+06],\n",
        "       [4.18454545e+02, 1.03669786e+07],\n",
        "       [4.21484848e+02, 1.02992887e+07],\n",
        "       [4.24515152e+02, 6.39189417e+06],\n",
        "       [4.27545455e+02, 1.36405449e+07],\n",
        "       [4.30575758e+02, 1.49410729e+07],\n",
        "       [4.33606061e+02, 2.09149077e+07],\n",
        "       [4.36636364e+02, 2.14703032e+07],\n",
        "       [4.39666667e+02, 2.11464887e+07],\n",
        "       [4.42696970e+02, 2.60359855e+07],\n",
        "       [4.45727273e+02, 3.19593647e+07],\n",
        "       [4.48757576e+02, 2.84547486e+07],\n",
        "       [4.51787879e+02, 2.98421720e+07],\n",
        "       [4.54818182e+02, 3.54693846e+07],\n",
        "       [4.57848485e+02, 4.17941703e+07],\n",
        "       [4.60878788e+02, 4.65948030e+07],\n",
        "       [4.63909091e+02, 5.74740135e+07],\n",
        "       [4.66939394e+02, 4.12282427e+07],\n",
        "       [4.69969697e+02, 6.43295352e+07],\n",
        "       [4.73000000e+02, 6.78921367e+07],\n",
        "       [4.76030303e+02, 6.87155479e+07],\n",
        "       [4.79060606e+02, 6.70678776e+07],\n",
        "       [4.82090909e+02, 6.23342574e+07],\n",
        "       [4.85121212e+02, 9.48617775e+07],\n",
        "       [4.88151515e+02, 9.34710486e+07],\n",
        "       [4.91181818e+02, 8.25781385e+07],\n",
        "       [4.94212121e+02, 1.02888832e+08],\n",
        "       [4.97242424e+02, 9.99071191e+07],\n",
        "       [5.00272727e+02, 1.01319698e+08],\n",
        "       [5.03303030e+02, 1.32602108e+08],\n",
        "       [5.06333333e+02, 1.31923942e+08],\n",
        "       [5.09363636e+02, 1.00146518e+08],\n",
        "       [5.12393939e+02, 1.48398130e+08],\n",
        "       [5.15424242e+02, 2.01128065e+08],\n",
        "       [5.18454545e+02, 2.25792703e+08],\n",
        "       [5.21484848e+02, 1.99863590e+08],\n",
        "       [5.24515152e+02, 2.47074414e+08],\n",
        "       [5.27545455e+02, 2.08548654e+08],\n",
        "       [5.30575758e+02, 1.83449792e+08],\n",
        "       [5.33606061e+02, 2.58856094e+08],\n",
        "       [5.36636364e+02, 3.10038100e+08],\n",
        "       [5.39666667e+02, 3.58956357e+08],\n",
        "       [5.42696970e+02, 3.21512830e+08],\n",
        "       [5.45727273e+02, 4.30773903e+08],\n",
        "       [5.48757576e+02, 4.39179856e+08],\n",
        "       [5.51787879e+02, 4.57110476e+08],\n",
        "       [5.54818182e+02, 3.75292342e+08],\n",
        "       [5.57848485e+02, 3.97574548e+08],\n",
        "       [5.60878788e+02, 4.57516936e+08],\n",
        "       [5.63909091e+02, 2.63845055e+08],\n",
        "       [5.66939394e+02, 4.59249219e+08],\n",
        "       [5.69969697e+02, 5.23677345e+08],\n",
        "       [5.73000000e+02, 7.51098462e+08]])\n",
        "\n",
        "T_data = data[:, 0]\n",
        "k_data = data[:, 1]\n",
        "\n",
        "# Define the modified Arrhenius function\n",
        "def modified_arrhenius(T, A, B, E):\n",
        "    R = 8.314  # Ideal gas constant J/mol K\n",
        "    return (A + B * T) * np.exp(-E / (R * T))\n",
        "\n",
        "# Use curve_fit to find the parameters A, B, and E\n",
        "# Provide initial guesses for the parameters (A, B, E)\n",
        "# These initial guesses can significantly affect the outcome of the fit.\n",
        "# Based on the data scale and the form of the function, let's make some educated guesses.\n",
        "# The k values range from thousands to hundreds of millions.\n",
        "# The exponential term will be between 0 and 1.\n",
        "# A and B*T will likely be the main contributors to the magnitude of k.\n",
        "# Let's guess A and B are around 1e6, and E is around 50000 (typical activation energy in J/mol).\n",
        "initial_guesses = [1e6, 1e4, 50000]\n",
        "\n",
        "\n",
        "params, covariance = curve_fit(modified_arrhenius, T_data, k_data, p0=initial_guesses)\n",
        "\n",
        "# Extract the fitted parameters\n",
        "A_fit, B_fit, E_fit = params\n",
        "\n",
        "print(\"Fitted Parameters:\")\n",
        "print(f\"A: {A_fit:.4e}\")\n",
        "print(f\"B: {B_fit:.4e}\")\n",
        "print(f\"E: {E_fit:.4e}\")\n",
        "\n",
        "# Optionally, calculate the standard deviations of the fitted parameters\n",
        "perr = np.sqrt(np.diag(covariance))\n",
        "print(\"\\nStandard deviations of fitted parameters:\")\n",
        "print(f\"Std Dev A: {perr[0]:.4e}\")\n",
        "print(f\"Std Dev B: {perr[1]:.4e}\")\n",
        "print(f\"Std Dev E: {perr[2]:.4e}\")\n",
        "\n",
        "# You can also calculate the R-squared value to evaluate the goodness of fit\n",
        "# R^2 = 1 - (sum of squares of residuals) / (total sum of squares)\n",
        "residuals = k_data - modified_arrhenius(T_data, A_fit, B_fit, E_fit)\n",
        "ss_res = np.sum(residuals**2)\n",
        "ss_tot = np.sum((k_data - np.mean(k_data))**2)\n",
        "r_squared = 1 - (ss_res / ss_tot)\n",
        "\n",
        "print(f\"\\nR-squared value: {r_squared:.4f}\")\n",
        "\n",
        "# To visually check the fit, you can plot the original data and the fitted curve\n",
        "import matplotlib.pyplot as plt\n",
        "\n",
        "plt.figure(figsize=(10, 6))\n",
        "plt.scatter(T_data, k_data, label='Original Data', marker='.')\n",
        "plt.plot(T_data, modified_arrhenius(T_data, A_fit, B_fit, E_fit), color='red', label='Fitted Curve')\n",
        "plt.xlabel('Temperature (T)')\n",
        "plt.ylabel('Rate Constant (k)')\n",
        "plt.title('Modified Arrhenius Curve Fit')\n",
        "plt.legend()\n",
        "plt.grid(True)\n",
        "plt.show()"
      ],
      "metadata": {
        "colab": {
          "base_uri": "https://localhost:8080/",
          "height": 824
        },
        "id": "GwQuuvrUAd_L",
        "outputId": "989eafc6-0170-454c-b487-43f21c36b31d"
      },
      "execution_count": 5,
      "outputs": [
        {
          "output_type": "stream",
          "name": "stderr",
          "text": [
            "/tmp/ipython-input-3157827757.py:112: RuntimeWarning: overflow encountered in exp\n",
            "  return (A + B * T) * np.exp(-E / (R * T))\n",
            "/tmp/ipython-input-3157827757.py:112: RuntimeWarning: overflow encountered in multiply\n",
            "  return (A + B * T) * np.exp(-E / (R * T))\n"
          ]
        },
        {
          "output_type": "stream",
          "name": "stdout",
          "text": [
            "Fitted Parameters:\n",
            "A: 1.4163e+14\n",
            "B: -1.3364e+11\n",
            "E: 5.5401e+04\n",
            "\n",
            "Standard deviations of fitted parameters:\n",
            "Std Dev A: 8.3573e+14\n",
            "Std Dev B: 1.0442e+12\n",
            "Std Dev E: 1.7516e+04\n",
            "\n",
            "R-squared value: 0.9451\n"
          ]
        },
        {
          "output_type": "display_data",
          "data": {
            "text/plain": [
              "<Figure size 1000x600 with 1 Axes>"
            ],
            "image/png": "[encoded data removed]"
          },
          "metadata": {}
        }
      ]
    }
  ],
  "metadata": {
    "colab": {
      "provenance": [],
      "include_colab_link": true
    },
    "kernelspec": {
      "display_name": "Python 3",
      "name": "python3"
    },
    "language_info": {
      "name": "python"
    }
  },
  "nbformat": 4,
  "nbformat_minor": 0
}