{
  "cells": [
    {
      "cell_type": "markdown",
      "metadata": {
        "id": "view-in-github",
        "colab_type": "text"
      },
      "source": [
        "<a href=\"https://colab.research.google.com/github/saryurawaley/Engphys3mn4/blob/main/Assignments/Assignment_4.ipynb\" target=\"_parent\"><img src=\"https://colab.research.google.com/assets/colab-badge.svg\" alt=\"Open In Colab\"/></a>"
      ]
    },
    {
      "cell_type": "markdown",
      "metadata": {
        "id": "XtDASns_9rsz"
      },
      "source": [
        "# Assignment 4\n",
        "\n",
        "Due: Thursday Nov 6th EOD"
      ]
    },
    {
      "cell_type": "markdown",
      "metadata": {
        "id": "wQhSPWRORebh"
      },
      "source": [
        "## Q1. The Blasius equation appears in fluid mechanics as a laminar flow boundary layer and is written:"
      ]
    },
    {
      "cell_type": "markdown",
      "metadata": {
        "id": "Wqz79hllRebi"
      },
      "source": [
        "$$y^{\\prime\\prime\\prime} + y y^{\\prime\\prime} = 0 $$"
      ]
    },
    {
      "cell_type": "markdown",
      "metadata": {
        "id": "HewW27j7Rebr"
      },
      "source": [
        "### a) Express this 3rd order ODE as a system of first order ODEs.\n",
        "{answer}"
      ]
    },
    {
      "cell_type": "code",
      "source": [],
      "metadata": {
        "id": "NXF1scd3RjoH"
      },
      "execution_count": null,
      "outputs": []
    },
    {
      "cell_type": "markdown",
      "metadata": {
        "id": "FHHv_1CPRebs"
      },
      "source": [
        "### b) Solve for $y(z)$ as an initial value problem assuming the boundary conditions below and plot the answer:\n",
        "\n",
        "$$\n",
        "\\begin{align}\n",
        "y(z=0) &= 0 \\\\\n",
        "y^\\prime(z=0) &= 0 \\\\\n",
        "y^{\\prime\\prime}(z = 0) &= 1 \\\\\n",
        "\\end{align}\n",
        "$$\n",
        "\n",
        "HINT: Read and consider part c) before implementing this.\n",
        "\n",
        "{Method, answer}"
      ]
    },
    {
      "cell_type": "markdown",
      "metadata": {
        "id": "M1HOq6PIRebt"
      },
      "source": [
        "## c) Use your *method* from b) to find a solution for $y(z)$ that fits the boundary conditions below, and plot the answer:\n",
        "\n",
        "$$\n",
        "\\begin{align}\n",
        "y(z=0) &= 0 \\\\\n",
        "y^\\prime(z=0) &= 0 \\\\\n",
        "y^{\\prime}(z = \\infty) &= 2 \\\\\n",
        "\\end{align}\n",
        "$$\n",
        "\n",
        "{Method, implementation, answer}"
      ]
    },
    {
      "cell_type": "markdown",
      "metadata": {
        "id": "l493Q-MxFeWo"
      },
      "source": [
        "## Q2"
      ]
    },
    {
      "cell_type": "markdown",
      "metadata": {
        "id": "u9fSBSZ4FjNT"
      },
      "source": [
        "The Fourier series shows that periodic functions can be written as an infinite sum of sine and cosine waves:\n",
        "\n",
        " $$f(x)= \\frac{A_0}{2}+\\sum_{n=1}^{\\infty}A_n\\ \\cos{(nx)} + B_n\\ \\sin{(nx)}$$\n",
        "\n",
        "Due to function orthogonality, the values of $A_n$ and $B_n$ can be computed using the following formulae:\n",
        "\n",
        " $$A_n= \\frac{1}{\\pi} \\int_{-\\pi}^{\\pi} f(x) \\cos{(nx)}\\ dx$$\n",
        " $$B_n= \\frac{1}{\\pi} \\int_{-\\pi}^{\\pi} f(x) \\sin{(nx)}\\ dx$$\n",
        "\n",
        "Periodic functions can be approximated by truncating the Fourier series at some $n = N$."
      ]
    },
    {
      "cell_type": "markdown",
      "metadata": {
        "id": "kR-LRjomekRx"
      },
      "source": [
        "### 2a"
      ]
    },
    {
      "cell_type": "markdown",
      "metadata": {
        "id": "o7amKudCe1Qd"
      },
      "source": [
        "Write a function that takes a $2-\\pi$ periodic function and a degree $n$, then outputs the $n-th$ Fourier coefficients $[A_n, B_n]$. Use the equations above with a suitable integration method. (Don't use packaged Fourier analysis tools)\n",
        "\n",
        "Test it for a suitable set of functions for which you have an analytic answer.\n",
        "\n",
        "{implementation, answer}"
      ]
    },
    {
      "cell_type": "markdown",
      "metadata": {
        "id": "GpoohbWPe4ku"
      },
      "source": [
        "### 2b\n",
        "Find the coefficients of the following functions and expansion orders:\n",
        "{All answers}"
      ]
    },
    {
      "cell_type": "code",
      "execution_count": null,
      "metadata": {
        "id": "2JxFvWwafFqf"
      },
      "outputs": [],
      "source": [
        "f = lambda x: np.mod(x, np.pi/2)\n",
        "N = 5"
      ]
    },
    {
      "cell_type": "code",
      "execution_count": null,
      "metadata": {
        "id": "RfvyzuPtfSr4"
      },
      "outputs": [],
      "source": [
        "f = lambda x: np.mod(x, np.pi/2)\n",
        "N = 20"
      ]
    },
    {
      "cell_type": "code",
      "execution_count": null,
      "metadata": {
        "id": "lz37fO1LfX-u"
      },
      "outputs": [],
      "source": [
        "f = lambda x: (x > -np.pi/2) & (x < np.pi/2)\n",
        "N = 2"
      ]
    },
    {
      "cell_type": "code",
      "execution_count": null,
      "metadata": {
        "id": "VmtjFPqbfcdz"
      },
      "outputs": [],
      "source": [
        "f = lambda x: (x > -np.pi/2) & (x < np.pi/2)\n",
        "N = 20"
      ]
    },
    {
      "cell_type": "markdown",
      "metadata": {
        "id": "qI_vg8UYbOQ9"
      },
      "source": [
        "## Q3:"
      ]
    },
    {
      "cell_type": "markdown",
      "metadata": {
        "id": "g-3U-3KIbReY"
      },
      "source": [
        "Given $$\\int_{-1}^1 f(x) dx = 3$$ and $$f(-3^{-\\frac{1}{2}}) = 1$$\n",
        "\n",
        "Assuming $f$ is a cubic polynomial, what is $f(3^{-\\frac{1}{2}})$? Why?\n",
        "\n",
        "{answer}"
      ]
    }
  ],
  "metadata": {
    "colab": {
      "provenance": [],
      "toc_visible": true,
      "include_colab_link": true
    },
    "kernelspec": {
      "display_name": "Python 3",
      "name": "python3"
    },
    "language_info": {
      "name": "python"
    }
  },
  "nbformat": 4,
  "nbformat_minor": 0
}